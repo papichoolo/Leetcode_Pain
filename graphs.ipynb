{
 "cells": [
  {
   "cell_type": "markdown",
   "metadata": {},
   "source": [
    "This is the constructor for a graph using addjacency list"
   ]
  },
  {
   "cell_type": "code",
   "execution_count": 8,
   "metadata": {},
   "outputs": [
    {
     "name": "stdout",
     "output_type": "stream",
     "text": [
      "1 : [2, 3]\n",
      "2 : [1, 4]\n",
      "3 : [1, 5]\n",
      "4 : [2, 6]\n",
      "5 : [3, 6]\n",
      "6 : [4, 5, 7]\n",
      "7 : [6]\n",
      "2\n",
      "4\n"
     ]
    }
   ],
   "source": [
    "from collections import deque\n",
    "class Graph:\n",
    "    def __init__(self):\n",
    "        self.graph = {}\n",
    "    \n",
    "    \n",
    "    def add_vert(self,value):\n",
    "        if value not in self.graph.keys():\n",
    "            self.graph[value]=[]\n",
    "            return True\n",
    "        return False\n",
    "    \n",
    "    def print_graph(self):\n",
    "        for vertex in self.graph:\n",
    "            print(vertex,\":\",self.graph[vertex])\n",
    "    def add_edge(self,v1,v3):\n",
    "        if v1 in self.graph.keys() and v3 in self.graph.keys():\n",
    "            self.graph[v1].append(v3)\n",
    "            self.graph[v3].append(v1)\n",
    "            return True\n",
    "        return False\n",
    "\n",
    "    def remove_edge(self,v1,v2):\n",
    "        if v1 in self.graph.keys() and v2 in self.graph.keys():\n",
    "            try:\n",
    "                self.graph[v1].remove(v2)\n",
    "                self.graph[v2].remove(v1)\n",
    "                return True\n",
    "            except ValueError:\n",
    "                pass\n",
    "    def remove_vert(self,v):\n",
    "        if v in self.graph.keys():\n",
    "            for i in self.graph[v]:\n",
    "                self.graph[i].remove(v)\n",
    "            self.graph.pop(v)\n",
    "            return True\n",
    "    \n",
    "    \n",
    "    def dfs(self, source, dest, graph, visited):\n",
    "        if source in visited:\n",
    "            return 0\n",
    "        if source == dest:\n",
    "            return 1\n",
    "        count=0\n",
    "        visited.add(source)\n",
    "        for bruh in self.graph[source]:\n",
    "            count+=self.dfs(bruh,dest,graph,visited)\n",
    "        visited.remove(source)\n",
    "        return count\n",
    "\n",
    "    def bfs(self, source, dest, graph):\n",
    "        length=0\n",
    "        queue = deque()\n",
    "        visited = set()\n",
    "        visited.add(source)\n",
    "        queue.append(source)\n",
    "        while queue:\n",
    "            for i in range(len(queue)):\n",
    "                bruh = queue.popleft()\n",
    "                if bruh == dest:\n",
    "                    return length\n",
    "                for i in graph[bruh]:\n",
    "                    if i not in visited:\n",
    "                        visited.add(i)\n",
    "                        queue.append(i)\n",
    "            length+=1\n",
    "        return length\n",
    "\n",
    "g = Graph()\n",
    "g.add_vert(1)\n",
    "g.add_vert(2)\n",
    "g.add_vert(3)\n",
    "g.add_vert(4)\n",
    "g.add_vert(5)\n",
    "g.add_vert(6)\n",
    "g.add_vert(7)\n",
    "g.add_edge(1,2)\n",
    "g.add_edge(1,3)\n",
    "g.add_edge(2,4)\n",
    "g.add_edge(3,5)\n",
    "g.add_edge(4,6)\n",
    "g.add_edge(5,6)\n",
    "g.add_edge(6,7)\n",
    "g.print_graph()\n",
    "print(g.dfs(1,7,g.graph,set()))\n",
    "print(g.bfs(1,7,g.graph))"
   ]
  },
  {
   "cell_type": "code",
   "execution_count": 3,
   "metadata": {},
   "outputs": [],
   "source": [
    "#dfs on this adjacency list method\n",
    "\n",
    "def dfs(source, dest, graph, visited):\n",
    "    if source in visited:\n",
    "        return 0\n",
    "    if source == dest:\n",
    "        return 1\n",
    "    count=0\n",
    "    visited.add(source)\n",
    "    for bruh in graph[source]:\n",
    "        count+=dfs(bruh,dest,graph,visited)\n",
    "    visited.remove(source)\n",
    "    return count\n",
    "\n",
    "def main():\n",
    "    g = Graph()\n",
    "    g.add_vert(1)\n",
    "    g.add_vert(2)\n",
    "    g.add_vert(3)\n",
    "    g.add_vert(4)\n",
    "    g.add_vert(5)\n",
    "    g.add_vert(6)\n",
    "    g.add_vert(7)\n",
    "    g.add_edge(1,2)\n",
    "    g.add_edge(1,3)\n",
    "    g.add_edge(2,4)\n",
    "    g.add_edge(3,5)\n",
    "    g.add_edge(4,6)\n",
    "    g.add_edge(5,6)\n",
    "    g.add_edge(6,7)\n",
    "    g.print_graph()\n",
    "    print(dfs(1,7,g.graph,set()))\n"
   ]
  },
  {
   "cell_type": "markdown",
   "metadata": {},
   "source": [
    "### Matrix related shtuff"
   ]
  },
  {
   "cell_type": "code",
   "execution_count": 35,
   "metadata": {},
   "outputs": [],
   "source": [
    "#Matrix DFS\n",
    "from collections import deque\n",
    "class matrix:\n",
    "    def __init__(self,grid):  \n",
    "        self.grid = grid\n",
    "\n",
    "    def dfs(self, r, c, visited):\n",
    "        if r<0 or c<0 or r>=len(self.grid) or c>=len(self.grid[0]) or (r,c) in visited or self.grid[r][c]==1:\n",
    "            return 0\n",
    "        if r== len(self.grid)-1 and c==len(self.grid[0])-1:\n",
    "            return 1\n",
    "        \n",
    "        visited.add((r,c))\n",
    "        count=0\n",
    "        count+=self.dfs(r+1,c,visited)\n",
    "        count+=self.dfs(r-1,c,visited)\n",
    "        count+=self.dfs(r,c+1,visited)\n",
    "        count+=self.dfs(r,c-1,visited)\n",
    "\n",
    "        visited.remove((r,c))\n",
    "        return count\n",
    "    \n",
    "    def bfs(self):\n",
    "        row, col= len(self.grid), len(self.grid[0])\n",
    "        visited= set()\n",
    "        queue=deque()\n",
    "        queue.append((0,0))\n",
    "        visited.add((0,0))\n",
    "\n",
    "        length=0\n",
    "        while queue:\n",
    "            length+=1\n",
    "            for i in range(len(queue)):\n",
    "                r,c=queue.popleft()\n",
    "                if r==row-1 and c==col-1:\n",
    "                    return length\n",
    "                for dr,dc in [(0,1),(0,-1),(1,0),(-1,0)]:\n",
    "                    if 0<=r+dr<row and 0<=c+dc<col and (r+dr,c+dc) not in visited and self.grid[r+dr][c+dc]==0:\n",
    "                        visited.add((r+dr,c+dc))\n",
    "                        queue.append((r+dr,c+dc))"
   ]
  },
  {
   "cell_type": "markdown",
   "metadata": {},
   "source": [
    "This is BFS that finds the minimum length required to reach a destination node"
   ]
  },
  {
   "cell_type": "code",
   "execution_count": 36,
   "metadata": {},
   "outputs": [
    {
     "name": "stdout",
     "output_type": "stream",
     "text": [
      "5\n",
      "1\n"
     ]
    }
   ],
   "source": [
    "\n",
    "bruh=matrix(grid=[[0,0,0],[1,1,0],[1,1,0]])\n",
    "print(bruh.bfs())\n",
    "\n",
    "\n",
    "\n",
    "visited = set()\n",
    "print(bruh.dfs(0, 0, visited)) "
   ]
  }
 ],
 "metadata": {
  "kernelspec": {
   "display_name": "Python 3",
   "language": "python",
   "name": "python3"
  },
  "language_info": {
   "codemirror_mode": {
    "name": "ipython",
    "version": 3
   },
   "file_extension": ".py",
   "mimetype": "text/x-python",
   "name": "python",
   "nbconvert_exporter": "python",
   "pygments_lexer": "ipython3",
   "version": "3.9.12"
  }
 },
 "nbformat": 4,
 "nbformat_minor": 2
}
