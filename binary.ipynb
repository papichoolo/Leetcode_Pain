{
 "cells": [
  {
   "cell_type": "markdown",
   "metadata": {},
   "source": [
    "You are given an array of length n which was originally sorted in ascending order. It has now been rotated between 1 and n times. For example, the array nums = [1,2,3,4,5,6] might become:\n",
    "\n",
    "[3,4,5,6,1,2] if it was rotated 4 times.\n",
    "[1,2,3,4,5,6] if it was rotated 6 times.\n",
    "Given the rotated sorted array nums and an integer target, return the index of target within nums, or -1 if it is not present."
   ]
  },
  {
   "cell_type": "code",
   "execution_count": null,
   "metadata": {},
   "outputs": [],
   "source": [
    "class Solution:\n",
    "    def search(self, nums: List[int], target: int) -> int:\n",
    "        l,r=0, len(nums)-1\n",
    "\n",
    "        while l<r:\n",
    "            mid=(l+r)//2\n",
    "            if nums[mid]==target:\n",
    "                return mid\n",
    "            #were in the left part of the sorted array\n",
    "            if nums[l]<=nums[mid]:\n",
    "                if target>nums[mid] or target<nums[l]:  \n",
    "#first condition says that the target is in the left sorted section, and the second says that its in the right sorted section, nevertheless, we need to move to the right part of the array\n",
    "                    l=mid+1\n",
    "                else:\n",
    "                    r=mid-1\n",
    "            #were in the right part of the sorted array    \n",
    "            else:\n",
    "                if target<nums[mid] or target>nums[r]: \n",
    "#first condition says that the target is in the right sorted section, and the second says that its in the left sorted section, nevertheless, we need to move to the left part of the array\n",
    "                    r=mid-1\n",
    "                else:\n",
    "                    l=mid+1\n",
    "        \n",
    "        return -1\n"
   ]
  }
 ],
 "metadata": {
  "language_info": {
   "name": "python"
  }
 },
 "nbformat": 4,
 "nbformat_minor": 2
}
