{
 "cells": [
  {
   "cell_type": "markdown",
   "metadata": {},
   "source": [
    "Given an input string s and a pattern p, implement regular expression matching with support for '.' and '*' where:\n",
    "\n",
    "'.' Matches any single character.​​​​\n",
    "'*' Matches zero or more of the preceding element.\n",
    "The matching should cover the entire input string (not partial).\n",
    "\n",
    " "
   ]
  },
  {
   "cell_type": "code",
   "execution_count": 1,
   "metadata": {},
   "outputs": [
    {
     "name": "stdout",
     "output_type": "stream",
     "text": [
      "True\n"
     ]
    }
   ],
   "source": [
    "class Solution:\n",
    "    def isMatch(self, s: str, p: str) -> bool:\n",
    "        memo={}\n",
    "\n",
    "        def dp(i,j):\n",
    "            if (i,j) not in memo:\n",
    "                if j== len(p):\n",
    "                    ans = i == len(s)\n",
    "                else:\n",
    "                    first_match = i<len(s) and p[j] in {s[i],\".\"}\n",
    "                    if j+1 < len(p) and p[j+1]==\"*\":\n",
    "                        ans=dp(i,j+2) or first_match and dp(i+1,j)\n",
    "                    else:\n",
    "                        ans=first_match and dp(i+1,j+1)\n",
    "                memo[i,j]=ans\n",
    "            return memo[i,j]\n",
    "        return dp(0,0)\n",
    "\n",
    "\n",
    "if __name__ == '__main__':\n",
    "    s = \"aa\"\n",
    "    p = \"a*\"\n",
    "    print(Solution().isMatch(s,p))"
   ]
  }
 ],
 "metadata": {
  "kernelspec": {
   "display_name": "Python 3",
   "language": "python",
   "name": "python3"
  },
  "language_info": {
   "codemirror_mode": {
    "name": "ipython",
    "version": 3
   },
   "file_extension": ".py",
   "mimetype": "text/x-python",
   "name": "python",
   "nbconvert_exporter": "python",
   "pygments_lexer": "ipython3",
   "version": "3.9.12"
  }
 },
 "nbformat": 4,
 "nbformat_minor": 2
}
