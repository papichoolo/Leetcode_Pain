{
 "cells": [
  {
   "cell_type": "markdown",
   "metadata": {},
   "source": [
    "143. Reorder List\n"
   ]
  },
  {
   "cell_type": "code",
   "execution_count": null,
   "metadata": {},
   "outputs": [],
   "source": [
    "# Definition for singly-linked list.\n",
    "# class ListNode:\n",
    "#     def __init__(self, val=0, next=None):\n",
    "#         self.val = val\n",
    "#         self.next = next\n",
    "# Definition for singly-linked list.\n",
    "# class ListNode:\n",
    "#     def __init__(self, val=0, next=None):\n",
    "#         self.val = val\n",
    "#         self.next = next\n",
    "\n",
    "class Solution:\n",
    "    def reorderList(self, head: Optional[ListNode]) -> None:\n",
    "        slow, fast= head, head.next\n",
    "        while fast and fast.next:\n",
    "            slow=slow.next\n",
    "            fast=fast.next.next\n",
    "#revesrsing\n",
    "        second=slow.next\n",
    "        prev= slow.next= None\n",
    "        while second:\n",
    "            tmp= second.next\n",
    "            second.next= prev\n",
    "            prev= second\n",
    "            second=tmp\n",
    "\n",
    "#merging\n",
    "        first,second=head,prev\n",
    "        while second:\n",
    "            tmp1, tmp2= first.next, second.next\n",
    "            first.next=second\n",
    "            second.next=tmp1\n",
    "            first, second= tmp1, tmp2\n",
    "\n",
    "        "
   ]
  },
  {
   "cell_type": "markdown",
   "metadata": {},
   "source": [
    "Merge Two linked Lists"
   ]
  },
  {
   "cell_type": "code",
   "execution_count": null,
   "metadata": {},
   "outputs": [],
   "source": [
    "# Definition for singly-linked list.\n",
    "# class ListNode:\n",
    "#     def __init__(self, val=0, next=None):\n",
    "#         self.val = val\n",
    "#         self.next = next\n",
    "class Solution:\n",
    "    def mergeTwoLists(self, list1: Optional[ListNode], list2: Optional[ListNode]) -> Optional[ListNode]:\n",
    "\n",
    "        tail=bruh=ListNode()\n",
    "        \n",
    "        while list1 and list2:\n",
    "            if list1.val>list2.val:\n",
    "                tail.next=list2\n",
    "                list2=list2.next\n",
    "            else:\n",
    "                tail.next=list1\n",
    "                list1=list1.next\n",
    "            tail=tail.next\n",
    "        tail.next= list1 or list2\n",
    "\n",
    "        return bruh.next\n",
    "        "
   ]
  }
 ],
 "metadata": {
  "language_info": {
   "name": "python"
  }
 },
 "nbformat": 4,
 "nbformat_minor": 2
}
