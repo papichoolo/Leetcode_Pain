{
 "cells": [
  {
   "cell_type": "markdown",
   "metadata": {},
   "source": [
    "143. Reorder List\n"
   ]
  },
  {
   "cell_type": "code",
   "execution_count": 6,
   "metadata": {},
   "outputs": [],
   "source": [
    "# Definition for singly-linked list.\n",
    "class ListNode:\n",
    "    def __init__(self, val=0, next=None):\n",
    "        self.val = val\n",
    "        self.next = next\n",
    "\n",
    "from typing import Optional\n",
    "class Solution:\n",
    "    def reorderList(self, head: Optional[ListNode]) -> None:\n",
    "        slow, fast= head, head.next\n",
    "        while fast and fast.next:\n",
    "            slow=slow.next\n",
    "            fast=fast.next.next\n",
    "#revesrsing\n",
    "        second=slow.next\n",
    "        prev= slow.next= None\n",
    "        while second:\n",
    "            tmp= second.next\n",
    "            second.next= prev\n",
    "            prev= second\n",
    "            second=tmp\n",
    "\n",
    "#merging\n",
    "        first,second=head,prev\n",
    "        while second:\n",
    "            tmp1, tmp2= first.next, second.next\n",
    "            first.next=second\n",
    "            second.next=tmp1\n",
    "            first, second= tmp1, tmp2\n",
    "\n",
    "        "
   ]
  },
  {
   "cell_type": "markdown",
   "metadata": {},
   "source": [
    "Merge Two linked Lists"
   ]
  },
  {
   "cell_type": "code",
   "execution_count": 7,
   "metadata": {},
   "outputs": [],
   "source": [
    "# Definition for singly-linked list.\n",
    "# class ListNode:\n",
    "#     def __init__(self, val=0, next=None):\n",
    "#         self.val = val\n",
    "#         self.next = next\n",
    "class Solution:\n",
    "    def mergeTwoLists(self, list1: Optional[ListNode], list2: Optional[ListNode]) -> Optional[ListNode]:\n",
    "\n",
    "        tail=bruh=ListNode()\n",
    "        \n",
    "        while list1 and list2:\n",
    "            if list1.val>list2.val:\n",
    "                tail.next=list2\n",
    "                list2=list2.next\n",
    "            else:\n",
    "                tail.next=list1\n",
    "                list1=list1.next\n",
    "            tail=tail.next\n",
    "        tail.next= list1 or list2\n",
    "\n",
    "        return bruh.next\n",
    "        "
   ]
  }
 ],
 "metadata": {
  "kernelspec": {
   "display_name": "Python 3",
   "language": "python",
   "name": "python3"
  },
  "language_info": {
   "codemirror_mode": {
    "name": "ipython",
    "version": 3
   },
   "file_extension": ".py",
   "mimetype": "text/x-python",
   "name": "python",
   "nbconvert_exporter": "python",
   "pygments_lexer": "ipython3",
   "version": "3.9.12"
  }
 },
 "nbformat": 4,
 "nbformat_minor": 2
}
