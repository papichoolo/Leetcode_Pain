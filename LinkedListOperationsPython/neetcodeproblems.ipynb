{
 "cells": [
  {
   "cell_type": "markdown",
   "metadata": {},
   "source": [
    "143. Reorder List\n"
   ]
  },
  {
   "cell_type": "code",
   "execution_count": null,
   "metadata": {},
   "outputs": [],
   "source": [
    "# Definition for singly-linked list.\n",
    "# class ListNode:\n",
    "#     def __init__(self, val=0, next=None):\n",
    "#         self.val = val\n",
    "#         self.next = next\n",
    "# Definition for singly-linked list.\n",
    "# class ListNode:\n",
    "#     def __init__(self, val=0, next=None):\n",
    "#         self.val = val\n",
    "#         self.next = next\n",
    "\n",
    "class Solution:\n",
    "    def reorderList(self, head: Optional[ListNode]) -> None:\n",
    "        slow, fast= head, head.next\n",
    "        while fast and fast.next:\n",
    "            slow=slow.next\n",
    "            fast=fast.next.next\n",
    "#revesrsing\n",
    "        second=slow.next\n",
    "        prev= slow.next= None\n",
    "        while second:\n",
    "            tmp= second.next\n",
    "            second.next= prev\n",
    "            prev= second\n",
    "            second=tmp\n",
    "\n",
    "#merging\n",
    "        first,second=head,prev\n",
    "        while second:\n",
    "            tmp1, tmp2= first.next, second.next\n",
    "            first.next=second\n",
    "            second.next=tmp1\n",
    "            first, second= tmp1, tmp2\n",
    "\n",
    "        "
   ]
  }
 ],
 "metadata": {
  "language_info": {
   "name": "python"
  }
 },
 "nbformat": 4,
 "nbformat_minor": 2
}
