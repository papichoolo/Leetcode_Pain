{
 "cells": [
  {
   "cell_type": "markdown",
   "metadata": {},
   "source": [
    "143. Reorder List\n"
   ]
  },
  {
   "cell_type": "code",
   "execution_count": 6,
   "metadata": {},
   "outputs": [],
   "source": [
    "# Definition for singly-linked list.\n",
    "class ListNode:\n",
    "    def __init__(self, val=0, next=None):\n",
    "        self.val = val\n",
    "        self.next = next\n",
    "\n",
    "from typing import Optional\n",
    "class Solution:\n",
    "    def reorderList(self, head: Optional[ListNode]) -> None:\n",
    "        slow, fast= head, head.next\n",
    "        while fast and fast.next:\n",
    "            slow=slow.next\n",
    "            fast=fast.next.next\n",
    "#revesrsing\n",
    "        second=slow.next\n",
    "        prev= slow.next= None\n",
    "        while second:\n",
    "            tmp= second.next\n",
    "            second.next= prev\n",
    "            prev= second\n",
    "            second=tmp\n",
    "\n",
    "#merging\n",
    "        first,second=head,prev\n",
    "        while second:\n",
    "            tmp1, tmp2= first.next, second.next\n",
    "            first.next=second\n",
    "            second.next=tmp1\n",
    "            first, second= tmp1, tmp2\n",
    "\n",
    "        "
   ]
  },
  {
   "cell_type": "markdown",
   "metadata": {},
   "source": [
    "Merge Two linked Lists"
   ]
  },
  {
   "cell_type": "code",
   "execution_count": 7,
   "metadata": {},
   "outputs": [],
   "source": [
    "# Definition for singly-linked list.\n",
    "# class ListNode:\n",
    "#     def __init__(self, val=0, next=None):\n",
    "#         self.val = val\n",
    "#         self.next = next\n",
    "class Solution:\n",
    "    def mergeTwoLists(self, list1: Optional[ListNode], list2: Optional[ListNode]) -> Optional[ListNode]:\n",
    "\n",
    "        tail=bruh=ListNode()\n",
    "        \n",
    "        while list1 and list2:\n",
    "            if list1.val>list2.val:\n",
    "                tail.next=list2\n",
    "                list2=list2.next\n",
    "            else:\n",
    "                tail.next=list1\n",
    "                list1=list1.next\n",
    "            tail=tail.next\n",
    "        tail.next= list1 or list2\n",
    "\n",
    "        return bruh.next\n",
    "        "
   ]
  },
  {
   "cell_type": "markdown",
   "metadata": {},
   "source": [
    "remove nth element from the end"
   ]
  },
  {
   "cell_type": "code",
   "execution_count": null,
   "metadata": {},
   "outputs": [],
   "source": [
    "# Definition for singly-linked list.\n",
    "# class ListNode:\n",
    "#     def __init__(self, val=0, next=None):\n",
    "#         self.val = val\n",
    "#         self.next = next\n",
    "class Solution:\n",
    "    def removeNthFromEnd(self, head: Optional[ListNode], n: int) -> Optional[ListNode]:\n",
    "        dummy= ListNode(0,head)\n",
    "\n",
    "        left=dummy\n",
    "        right=head\n",
    "\n",
    "        while n>0:\n",
    "            right=right.next\n",
    "            n-=1\n",
    "        \n",
    "        while right:\n",
    "            left=left.next\n",
    "            right=right.next\n",
    "\n",
    "        left.next=left.next.next\n",
    "        return dummy.next"
   ]
  },
  {
   "cell_type": "markdown",
   "metadata": {},
   "source": [
    "Reverse k groups of a list"
   ]
  },
  {
   "cell_type": "code",
   "execution_count": null,
   "metadata": {},
   "outputs": [],
   "source": [
    "# Definition for singly-linked list.\n",
    "# class ListNode:\n",
    "#     def __init__(self, val=0, next=None):\n",
    "#         self.val = val\n",
    "#         self.next = next\n",
    "\n",
    "class Solution:\n",
    "    def reverseKGroup(self, head: Optional[ListNode], k: int) -> Optional[ListNode]:\n",
    "        dummy = ListNode(0, head)\n",
    "        groupPrev = dummy\n",
    "\n",
    "        while True:\n",
    "            kth = self.getKth(groupPrev, k) #get the last element of the group\n",
    "            if not kth: #if there's no more nodes in the group\n",
    "                break\n",
    "            groupNext = kth.next\n",
    "\n",
    "            prev, curr = groupNext, groupPrev.next #i guess the prev element cannot be None\n",
    "            while curr != groupNext:\n",
    "                tmp = curr.next\n",
    "                curr.next = prev\n",
    "                prev = curr\n",
    "                curr = tmp\n",
    "\n",
    "            #reconnect the reversed groups\n",
    "            tmp = groupPrev.next #storing the first element of the group\n",
    "            groupPrev.next = kth #setting the last element of the group as the first element\n",
    "            groupPrev = tmp #setting the first element as the last element of the group\n",
    "        return dummy.next\n",
    "\n",
    "    def getKth(self, curr, k):\n",
    "        while curr and k > 0:\n",
    "            curr = curr.next\n",
    "            k -= 1\n",
    "        return curr\n"
   ]
  }
 ],
 "metadata": {
  "kernelspec": {
   "display_name": "Python 3",
   "language": "python",
   "name": "python3"
  },
  "language_info": {
   "codemirror_mode": {
    "name": "ipython",
    "version": 3
   },
   "file_extension": ".py",
   "mimetype": "text/x-python",
   "name": "python",
   "nbconvert_exporter": "python",
   "pygments_lexer": "ipython3",
   "version": "3.9.12"
  }
 },
 "nbformat": 4,
 "nbformat_minor": 2
}
