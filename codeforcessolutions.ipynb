{
 "cells": [
  {
   "cell_type": "code",
   "execution_count": null,
   "metadata": {},
   "outputs": [],
   "source": [
    "#4A\n",
    "\n",
    "def solution(n):\n",
    "    return \"YES\" if n > 2 and n % 2 == 0 else \"NO\"\n",
    "\n",
    "n=int(input())\n",
    "print(solution(n))"
   ]
  },
  {
   "cell_type": "code",
   "execution_count": 13,
   "metadata": {},
   "outputs": [
    {
     "name": "stdout",
     "output_type": "stream",
     "text": [
      "10\n"
     ]
    }
   ],
   "source": [
    "#minimum number of steps to make an array beaturiful\n",
    "\n",
    "from collections import Counter\n",
    "\n",
    "def solution(n, arr):\n",
    "    count = dict(Counter(arr))\n",
    "    ans=0\n",
    "    for i in count:\n",
    "        diff= abs(count[i] - i)\n",
    "        if abs(count[i] - i) > count[i]:\n",
    "            diff= count[i]\n",
    "        ans+=diff\n",
    "    return ans\n",
    "\n",
    "print(solution(10, [5,5,5,5,5,5,5,5,5,5,5,5,5,5,5]))"
   ]
  },
  {
   "cell_type": "code",
   "execution_count": 15,
   "metadata": {},
   "outputs": [
    {
     "name": "stdout",
     "output_type": "stream",
     "text": [
      "4\n"
     ]
    }
   ],
   "source": [
    "'''\n",
    "You are given an array \n",
    " of length \n",
    " and can perform the following operation on the array:\n",
    "\n",
    "Select a subarray from array \n",
    " having the same value of elements and decrease the value of all the elements in that subarray by any positive integer \n",
    ".\n",
    "Find the minimum number of operations required to make all the elements of array \n",
    " equal to zero.\n",
    "\n",
    "Input format\n",
    "\n",
    "The first line contains an integer \n",
    " denoting the number of elements in the array.\n",
    "The next line contains space-separated integers denoting the elements of array \n",
    ".\n",
    "Output format\n",
    "\n",
    "Print the minimum number of operations required to make all the elements of array \n",
    " equal to zero.'''  #basicall no of non consecutive elements in array\n",
    "\n",
    "n = int(input())\n",
    "arr = list(map(int, input().split()))\n",
    "\n",
    "count = 0\n",
    "i = 0\n",
    "\n",
    "while i < n:\n",
    "    count += 1\n",
    "    value = arr[i]\n",
    "    while i < n and arr[i] == value:\n",
    "        i += 1\n",
    "\n",
    "print(count)\n"
   ]
  },
  {
   "cell_type": "code",
   "execution_count": 17,
   "metadata": {},
   "outputs": [
    {
     "name": "stdout",
     "output_type": "stream",
     "text": [
      "bruh\n",
      "bruh\n",
      "bruh\n",
      "bruh\n",
      "bruh\n"
     ]
    }
   ],
   "source": [
    "i=0\n",
    "n=5\n",
    "\n",
    "while i<n:\n",
    "    print('bruh')\n",
    "    i+=1"
   ]
  }
 ],
 "metadata": {
  "kernelspec": {
   "display_name": "Python 3",
   "language": "python",
   "name": "python3"
  },
  "language_info": {
   "codemirror_mode": {
    "name": "ipython",
    "version": 3
   },
   "file_extension": ".py",
   "mimetype": "text/x-python",
   "name": "python",
   "nbconvert_exporter": "python",
   "pygments_lexer": "ipython3",
   "version": "3.9.12"
  }
 },
 "nbformat": 4,
 "nbformat_minor": 2
}
