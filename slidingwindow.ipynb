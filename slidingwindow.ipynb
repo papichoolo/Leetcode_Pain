{
 "cells": [
  {
   "cell_type": "markdown",
   "metadata": {},
   "source": [
    "#### 424 Longest Repeating Character Replacement\n",
    "You are given a string s and an integer k. You can choose any character of the string and change it to any other uppercase English character. You can perform this operation at most k times.\n",
    "\n",
    "Return the length of the longest substring containing the same letter you can get after performing the above operations."
   ]
  },
  {
   "cell_type": "code",
   "execution_count": null,
   "metadata": {},
   "outputs": [],
   "source": [
    "class Solution:\n",
    "    def characterReplacement(self, s: str, k: int) -> int:\n",
    "        count={} #count of all alphabets\n",
    "\n",
    "        l=0\n",
    "        maxf=0 #maxfrequency\n",
    "        #right window keeps sliding\n",
    "        for r in range(len(s)):\n",
    "            count[s[r]]= 1+ count.get(s[r],0)\n",
    "            maxf=max(maxf,count[s[r]])\n",
    "            #condition to make left window slide\n",
    "            if ((r-l+1)-maxf) > k:\n",
    "                count[s[l]]-=1\n",
    "                l+=1\n",
    "        #at the end we want to return the window\n",
    "        return (r-l+1)\n"
   ]
  }
 ],
 "metadata": {
  "language_info": {
   "name": "python"
  }
 },
 "nbformat": 4,
 "nbformat_minor": 2
}
