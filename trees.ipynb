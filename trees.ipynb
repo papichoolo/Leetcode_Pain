{
 "cells": [
  {
   "cell_type": "markdown",
   "metadata": {},
   "source": [
    "inserting in a position takes O(n) time complexity"
   ]
  },
  {
   "cell_type": "code",
   "execution_count": 8,
   "metadata": {},
   "outputs": [
    {
     "name": "stdout",
     "output_type": "stream",
     "text": [
      "[0, 34, 6, 2, 1, 89]\n"
     ]
    }
   ],
   "source": [
    "arr=[0,34,6,2,1]\n",
    "arr.insert(10000,89)\n",
    "print(arr)"
   ]
  },
  {
   "cell_type": "markdown",
   "metadata": {},
   "source": [
    "Insert in o(logn) in a Binary Search Tree. This will always be i. Better to add the new node as a leaf node"
   ]
  },
  {
   "cell_type": "code",
   "execution_count": null,
   "metadata": {},
   "outputs": [],
   "source": [
    "class Node: \n",
    "    def __init__(self, value): \n",
    "        self.value = value \n",
    "        self.left = None\n",
    "        self.right = None\n",
    "\n",
    "\n",
    "def add_node(root, value):\n",
    "    if root is None:\n",
    "        return Node(value)\n",
    "    else:\n",
    "        if value < root.value:\n",
    "            root.left = add_node(root.left, value)\n",
    "        else:\n",
    "            root.right = add_node(root.right, value)\n",
    "    return root"
   ]
  },
  {
   "cell_type": "markdown",
   "metadata": {},
   "source": [
    "Removing the minimum is actually pretty easy"
   ]
  },
  {
   "cell_type": "code",
   "execution_count": null,
   "metadata": {},
   "outputs": [],
   "source": [
    "def find_min(root):\n",
    "    temp=root\n",
    "    \n",
    "    while temp and temp.left:\n",
    "        temp = temp.left\n",
    "    return temp\n"
   ]
  },
  {
   "cell_type": "markdown",
   "metadata": {},
   "source": [
    "Time to remove a node"
   ]
  },
  {
   "cell_type": "code",
   "execution_count": null,
   "metadata": {},
   "outputs": [],
   "source": [
    "def remove_node(root, value):\n",
    "    if not root:\n",
    "        return root\n",
    "    if value < root.value:\n",
    "        root.left = remove_node(root.left, value)\n",
    "    elif value > root.value:\n",
    "        root.right = remove_node(root.right, value)\n",
    "    else:\n",
    "        if not root.left:\n",
    "            return root.right\n",
    "        if not root.right:\n",
    "            return root.left\n",
    "        temp = find_min(root.right)\n",
    "        root.value = temp.value\n",
    "        root.right = remove_node(root.right, temp.value)\n",
    "    return root"
   ]
  },
  {
   "cell_type": "markdown",
   "metadata": {},
   "source": [
    "This above code has two cases:\n",
    "- Is the value having 0/1 child nodes?\n",
    "- Is the value having 2 child nodes?\n",
    "\n",
    "in the second case, it takes the minimum of the right subtree, and puts that value into the root, while removing that minimum value"
   ]
  },
  {
   "cell_type": "markdown",
   "metadata": {},
   "source": []
  },
  {
   "cell_type": "markdown",
   "metadata": {},
   "source": [
    "Writing a Recursive function for inserting an element:\n"
   ]
  },
  {
   "cell_type": "code",
   "execution_count": 1,
   "metadata": {},
   "outputs": [
    {
     "ename": "IndentationError",
     "evalue": "expected an indented block (4070246173.py, line 1)",
     "output_type": "error",
     "traceback": [
      "\u001b[1;36m  Input \u001b[1;32mIn [1]\u001b[1;36m\u001b[0m\n\u001b[1;33m    def r_insert(self,value):\u001b[0m\n\u001b[1;37m                             ^\u001b[0m\n\u001b[1;31mIndentationError\u001b[0m\u001b[1;31m:\u001b[0m expected an indented block\n"
     ]
    }
   ],
   "source": [
    "def helper_insert(self, curr_node, value):\n",
    "    if curr_node is None:\n",
    "        return Node(value)\n",
    "    if value < curr_node.value:\n",
    "        curr_node.left = self.helper_insert(curr_node.left, value)\n",
    "    else:\n",
    "        curr_node.right = self.helper_insert(curr_node.right, value)\n",
    "    return curr_node\n",
    "\n",
    "\n",
    "def r_insert(self,value):\n",
    "    self.root= self.helper_insert(self.root, value)\n",
    "    if self.root is None:\n",
    "        self.root= Node(value)\n",
    "    \n"
   ]
  },
  {
   "cell_type": "markdown",
   "metadata": {},
   "source": [
    "LADS!!!! TIME TO DO THE CLASSIC INVERT BINARY TREE"
   ]
  },
  {
   "cell_type": "code",
   "execution_count": 14,
   "metadata": {},
   "outputs": [
    {
     "name": "stdout",
     "output_type": "stream",
     "text": [
      "In-order traversal: [18, 21, 27, 47, 52, 76, 82]\n",
      "Level-order traversal: [47, 21, 76, 18, 27, 52, 82]\n"
     ]
    }
   ],
   "source": [
    "class Node:\n",
    "    def __init__(self, value) -> None:\n",
    "        self.left=None\n",
    "        self.right=None\n",
    "        self.value=value\n",
    "\n",
    "class Tree:\n",
    "    def __init__(self) -> None:\n",
    "        self.root=None\n",
    "\n",
    "    def insert(self, value):\n",
    "        if self.root is None:\n",
    "            self.root= Node(value)\n",
    "        else:\n",
    "            self.helper_insert(self.root, value)\n",
    "    def helper_insert(self, curr_node, value):\n",
    "        if curr_node is None:\n",
    "            return Node(value)\n",
    "        if value < curr_node.value:\n",
    "            curr_node.left = self.helper_insert(curr_node.left, value)\n",
    "        else:\n",
    "            curr_node.right = self.helper_insert(curr_node.right, value)\n",
    "        return curr_node\n",
    "\n",
    "    def invert(self):\n",
    "        self.helper_invert(self.root)\n",
    "        if self.root is None:\n",
    "            return None\n",
    "    \n",
    "    def helper_invert(self, node):\n",
    "        if node is None:\n",
    "            return None\n",
    "        temp= node.left\n",
    "\n",
    "        node.left= self.helper_invert(node.right)\n",
    "        node.right= self.helper_invert(temp)\n",
    "\n",
    "        return node\n",
    "    \n",
    "    def in_order_traversal(self, node, result=[]):\n",
    "        if node:\n",
    "            self.in_order_traversal(node.left, result)\n",
    "            result.append(node.value)\n",
    "            self.in_order_traversal(node.right, result)\n",
    "        return result\n",
    "\n",
    "    def print_in_order(self):\n",
    "        result = self.in_order_traversal(self.root, [])\n",
    "        print(\"In-order traversal:\", result)\n",
    "    \n",
    "    \n",
    "    def BFS(self):\n",
    "        if not self.root:\n",
    "            return []\n",
    "        \n",
    "        bruh= self.root\n",
    "        \n",
    "        result=[]\n",
    "        queue=[]\n",
    "\n",
    "        queue.append(bruh)\n",
    "        while len(queue) > 0:\n",
    "            temp= queue.pop(0)\n",
    "            result.append(temp.value)\n",
    "            if temp.left:\n",
    "                queue.append(temp.left)\n",
    "            if temp.right:\n",
    "                queue.append(temp.right)\n",
    "        return \"Level-order traversal: \" + str(result)\n",
    "\n",
    "\n",
    "hello= Tree()\n",
    "hello.insert(47)\n",
    "hello.insert(21)\n",
    "hello.insert(76)\n",
    "hello.insert(18)\n",
    "hello.insert(27)\n",
    "hello.insert(52)\n",
    "hello.insert(82)\n",
    "\n",
    "#hello.invert()\n",
    "hello.print_in_order()\n",
    "\n",
    "print(hello.BFS())"
   ]
  },
  {
   "cell_type": "markdown",
   "metadata": {},
   "source": [
    "Level Order Traversal aka BFS (DOne above)\n",
    "\n",
    "DFS pre-order done below:"
   ]
  },
  {
   "cell_type": "code",
   "execution_count": 19,
   "metadata": {},
   "outputs": [
    {
     "name": "stdout",
     "output_type": "stream",
     "text": [
      "[47, 21, 18, 27, 76, 52, 82]\n"
     ]
    }
   ],
   "source": [
    "def DFSpre(self):\n",
    "    bruh= self.root\n",
    "    result=[]\n",
    "    def traverse(node):\n",
    "        result.append(node.value)\n",
    "        if node.left is not None:\n",
    "            #result.append(node.value) erroneous\n",
    "            traverse(node.left)\n",
    "        if node.right is not None:\n",
    "            #result.append(node.value) erroneous\n",
    "            traverse(node.right)\n",
    "    traverse(bruh)\n",
    "    return result\n",
    "\n",
    "print(DFSpre(hello))"
   ]
  },
  {
   "cell_type": "markdown",
   "metadata": {},
   "source": [
    "DFS Post-oder"
   ]
  },
  {
   "attachments": {
    "image.png": {
     "image/png": "[encoded data removed]"
    }
   },
   "cell_type": "markdown",
   "metadata": {},
   "source": [
    "![image.png](attachment:image.png)"
   ]
  },
  {
   "cell_type": "code",
   "execution_count": 23,
   "metadata": {},
   "outputs": [
    {
     "name": "stdout",
     "output_type": "stream",
     "text": [
      "[18, 27, 21, 52, 82, 76, 47]\n"
     ]
    }
   ],
   "source": [
    "#same shit just append the results in the end, so the leaf nodes get in the list first\n",
    "\n",
    "def DFSPost(self):\n",
    "    bruh= self.root\n",
    "    result=[]\n",
    "    def traverse(node):\n",
    "        if node.left is not None:\n",
    "            #result.append(node.value) erroneous\n",
    "            traverse(node.left)\n",
    "        if node.right is not None:\n",
    "            #result.append(node.value) erroneous\n",
    "            traverse(node.right)\n",
    "        result.append(node.value)\n",
    "    traverse(bruh)\n",
    "    return result\n",
    "\n",
    "print(DFSPost(hello))"
   ]
  },
  {
   "cell_type": "code",
   "execution_count": 22,
   "metadata": {},
   "outputs": [
    {
     "name": "stdout",
     "output_type": "stream",
     "text": [
      "[18, 21, 27, 47, 52, 76, 82]\n"
     ]
    }
   ],
   "source": [
    "def DFSIN(self):\n",
    "    bruh= self.root\n",
    "    result=[]\n",
    "    def traverse(node):\n",
    "        if node.left is not None:\n",
    "            #result.append(node.value) erroneous\n",
    "            traverse(node.left)\n",
    "        result.append(node.value)\n",
    "        if node.right is not None:\n",
    "            #result.append(node.value) erroneous\n",
    "            traverse(node.right)\n",
    "        \n",
    "    traverse(bruh)\n",
    "    return result\n",
    "\n",
    "print(DFSIN(hello))"
   ]
  },
  {
   "cell_type": "code",
   "execution_count": null,
   "metadata": {},
   "outputs": [],
   "source": [
    "# Definition for a binary tree node.\n",
    "# class TreeNode:\n",
    "#     def __init__(self, val=0, left=None, right=None):\n",
    "#         self.val = val\n",
    "#         self.left = left\n",
    "#         self.right = right\n",
    "\n",
    "class Solution:\n",
    "    def rightSideView(self, root: Optional[TreeNode]) -> List[int]:\n",
    "        res=[]\n",
    "        q=deque([root])\n",
    "\n",
    "        while q:\n",
    "            righty=None\n",
    "            qlen=len(q)\n",
    "            for i in range(qlen):\n",
    "                node=q.popleft()\n",
    "                if node:\n",
    "                    righty=node\n",
    "                    #this will always store the right child as the left child will always be popped and searched for its children.\n",
    "                    q.append(node.left)\n",
    "                    q.append(node.right)\n",
    "                    #you can do reverse this to do left side view\n",
    "            if righty:\n",
    "                res.append(righty.val)\n",
    "        return res\n",
    "        "
   ]
  }
 ],
 "metadata": {
  "kernelspec": {
   "display_name": "Python 3",
   "language": "python",
   "name": "python3"
  },
  "language_info": {
   "codemirror_mode": {
    "name": "ipython",
    "version": 3
   },
   "file_extension": ".py",
   "mimetype": "text/x-python",
   "name": "python",
   "nbconvert_exporter": "python",
   "pygments_lexer": "ipython3",
   "version": "3.9.12"
  }
 },
 "nbformat": 4,
 "nbformat_minor": 2
}
