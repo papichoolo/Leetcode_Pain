{
 "cells": [
  {
   "cell_type": "markdown",
   "metadata": {},
   "source": [
    "inserting in a position takes O(n) time complexity"
   ]
  },
  {
   "cell_type": "code",
   "execution_count": 8,
   "metadata": {},
   "outputs": [
    {
     "name": "stdout",
     "output_type": "stream",
     "text": [
      "[0, 34, 6, 2, 1, 89]\n"
     ]
    }
   ],
   "source": [
    "arr=[0,34,6,2,1]\n",
    "arr.insert(10000,89)\n",
    "print(arr)"
   ]
  },
  {
   "cell_type": "markdown",
   "metadata": {},
   "source": [
    "Insert in o(logn) in a Binary Search Tree. This will always be i. Better to add the new node as a leaf node"
   ]
  },
  {
   "cell_type": "code",
   "execution_count": null,
   "metadata": {},
   "outputs": [],
   "source": [
    "class Node: \n",
    "    def __init__(self, value): \n",
    "        self.value = value \n",
    "        self.left = None\n",
    "        self.right = None\n",
    "\n",
    "\n",
    "def add_node(root, value):\n",
    "    if root is None:\n",
    "        return Node(value)\n",
    "    else:\n",
    "        if value < root.value:\n",
    "            root.left = add_node(root.left, value)\n",
    "        else:\n",
    "            root.right = add_node(root.right, value)\n",
    "    return root"
   ]
  },
  {
   "cell_type": "markdown",
   "metadata": {},
   "source": [
    "Removing the minimum is actually pretty easy"
   ]
  },
  {
   "cell_type": "code",
   "execution_count": null,
   "metadata": {},
   "outputs": [],
   "source": [
    "def find_min(root):\n",
    "    temp=root\n",
    "    \n",
    "    while temp and temp.left:\n",
    "        temp = temp.left\n",
    "    return temp\n"
   ]
  },
  {
   "cell_type": "markdown",
   "metadata": {},
   "source": [
    "Time to remove a node"
   ]
  },
  {
   "cell_type": "code",
   "execution_count": null,
   "metadata": {},
   "outputs": [],
   "source": [
    "def remove_node(root, value):\n",
    "    if not root:\n",
    "        return root\n",
    "    if value < root.value:\n",
    "        root.left = remove_node(root.left, value)\n",
    "    elif value > root.value:\n",
    "        root.right = remove_node(root.right, value)\n",
    "    else:\n",
    "        if not root.left:\n",
    "            return root.right\n",
    "        if not root.right:\n",
    "            return root.left\n",
    "        temp = find_min(root.right)\n",
    "        root.value = temp.value\n",
    "        root.right = remove_node(root.right, temp.value)\n",
    "    return root"
   ]
  },
  {
   "cell_type": "markdown",
   "metadata": {},
   "source": [
    "This above code has two cases:\n",
    "- Is the value having 0/1 child nodes?\n",
    "- Is the value having 2 child nodes?\n",
    "\n",
    "in the second case, it takes the minimum of the right subtree, and puts that value into the root, while removing that minimum value"
   ]
  },
  {
   "cell_type": "markdown",
   "metadata": {},
   "source": []
  }
 ],
 "metadata": {
  "kernelspec": {
   "display_name": "Python 3",
   "language": "python",
   "name": "python3"
  },
  "language_info": {
   "codemirror_mode": {
    "name": "ipython",
    "version": 3
   },
   "file_extension": ".py",
   "mimetype": "text/x-python",
   "name": "python",
   "nbconvert_exporter": "python",
   "pygments_lexer": "ipython3",
   "version": "3.9.12"
  }
 },
 "nbformat": 4,
 "nbformat_minor": 2
}
