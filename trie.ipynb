{
 "cells": [
  {
   "cell_type": "markdown",
   "metadata": {},
   "source": [
    "A trie is also known as a prefix tree. A great way to explain a prefix tree, would be to add a new word to a dictionary. We can access the words of the dictionary by looking through each letter (or the prefixed of the tree).\n",
    "\n",
    "For example, for the word apple, we start by the letter a, then p, then p again... you get the idea. If the letter isnt a child node on the parent node, then that means this is a new word."
   ]
  },
  {
   "cell_type": "code",
   "execution_count": null,
   "metadata": {},
   "outputs": [],
   "source": [
    "class TrieNode:\n",
    "    def __init__(self):\n",
    "        self.children = {}\n",
    "        self.isword = False\n",
    "\n",
    "class Trie:\n",
    "    def __init__(self):\n",
    "        self.root = TrieNode()\n",
    "\n",
    "    def insert(self, word):\n",
    "        node = self.root\n",
    "        for c in word:\n",
    "            if c not in node.children:\n",
    "                node.children[c] = TrieNode()\n",
    "            node = node.children[c]\n",
    "        node.isword = True\n",
    "\n",
    "    def search(self, word):\n",
    "        node = self.root\n",
    "        for c in word:\n",
    "            if c not in node.children:\n",
    "                return False\n",
    "            node = node.children[c]\n",
    "        return node.isword\n",
    "\n",
    "    def startsWith(self, prefix):\n",
    "        node = self.root\n",
    "        for c in prefix:\n",
    "            if c not in node.children:\n",
    "                return False\n",
    "            node = node.children[c]\n",
    "        return True"
   ]
  }
 ],
 "metadata": {
  "language_info": {
   "name": "python"
  }
 },
 "nbformat": 4,
 "nbformat_minor": 2
}
