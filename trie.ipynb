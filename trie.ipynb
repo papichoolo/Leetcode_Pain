{
 "cells": [
  {
   "cell_type": "markdown",
   "metadata": {},
   "source": [
    "A trie is also known as a prefix tree. A great way to explain a prefix tree, would be to add a new word to a dictionary. We can access the words of the dictionary by looking through each letter (or the prefixed of the tree).\n",
    "\n",
    "For example, for the word apple, we start by the letter a, then p, then p again... you get the idea. If the letter isnt a child node on the parent node, then that means this is a new word."
   ]
  },
  {
   "cell_type": "code",
   "execution_count": null,
   "metadata": {},
   "outputs": [],
   "source": [
    "class TrieNode:\n",
    "    def __init__(self):\n",
    "        self.children = {}\n",
    "        self.isword = False\n",
    "\n",
    "class Trie:\n",
    "    def __init__(self):\n",
    "        self.root = TrieNode()\n",
    "\n",
    "    def insert(self, word):\n",
    "        node = self.root\n",
    "        for c in word:\n",
    "            if c not in node.children:\n",
    "                node.children[c] = TrieNode()\n",
    "            node = node.children[c]\n",
    "        node.isword = True\n",
    "\n",
    "    def search(self, word):\n",
    "        node = self.root\n",
    "        for c in word:\n",
    "            if c not in node.children:\n",
    "                return False\n",
    "            node = node.children[c]\n",
    "        return node.isword\n",
    "\n",
    "    def startsWith(self, prefix):\n",
    "        node = self.root\n",
    "        for c in prefix:\n",
    "            if c not in node.children:\n",
    "                return False\n",
    "            node = node.children[c]\n",
    "        return True"
   ]
  },
  {
   "cell_type": "markdown",
   "metadata": {},
   "source": [
    "Union Find Problem (Merging two unrelated node together to form a tree)"
   ]
  },
  {
   "cell_type": "code",
   "execution_count": 6,
   "metadata": {},
   "outputs": [],
   "source": [
    "class UnionFind:\n",
    "    def __init__(self, n):\n",
    "        self.parent = {}\n",
    "        self.rank = {}\n",
    "\n",
    "        for i in range(n):\n",
    "            self.parent[i] = i\n",
    "            self.rank[i] = 0\n",
    "    \n",
    "    def find(self, x):\n",
    "        p=self.parent[x]\n",
    "        while p!=self.parent[p]:\n",
    "            self.parent[p]=self.parent[self.parent[p]] #path compression by halving the paths to reach the root\n",
    "            p=self.parent[p]\n",
    "        return p\n",
    "\n",
    "    def union(self, x, y):\n",
    "        px, py = self.find(x), self.find(y)\n",
    "        if px == py:\n",
    "            return False # x and y are already in the same set\n",
    "        # union by rank\n",
    "        if self.rank[px] < self.rank[py]:\n",
    "            self.parent[px] = py\n",
    "        elif self.rank[px] > self.rank[py]:\n",
    "            self.parent[py] = px\n",
    "        # if ranks are equal, then increment the rank\n",
    "        else:\n",
    "            self.parent[px] = py\n",
    "            self.rank[py] += 1\n",
    "        return True"
   ]
  },
  {
   "cell_type": "code",
   "execution_count": 7,
   "metadata": {},
   "outputs": [
    {
     "name": "stdout",
     "output_type": "stream",
     "text": [
      "1\n",
      "True\n",
      "True\n",
      "False\n"
     ]
    }
   ],
   "source": [
    "bruh = UnionFind(5)\n",
    "print(bruh.find(1))\n",
    "print(bruh.union(1, 2))\n",
    "print(bruh.union(2,4))\n",
    "print(bruh.union(4,1))"
   ]
  },
  {
   "cell_type": "markdown",
   "metadata": {},
   "source": [
    "Segment Trees"
   ]
  },
  {
   "cell_type": "code",
   "execution_count": null,
   "metadata": {},
   "outputs": [],
   "source": [
    "class SegmentTree:\n",
    "    def __init__(self, total, L, R):\n",
    "        self.sum = total\n",
    "        self.left = None\n",
    "        self.right = None\n",
    "        self.L = L\n",
    "        self.R = R\n",
    "        \n",
    "    # O(n)\n",
    "    @staticmethod\n",
    "    def build(nums, L, R):\n",
    "        if L == R:\n",
    "            return SegmentTree(nums[L], L, R)\n",
    "\n",
    "        M = (L + R) // 2\n",
    "        root = SegmentTree(0, L, R)\n",
    "        root.left = SegmentTree.build(nums, L, M)\n",
    "        root.right = SegmentTree.build(nums, M + 1, R)\n",
    "        root.sum = root.left.sum + root.right.sum\n",
    "        return root\n",
    "\n",
    "    # O(logn)\n",
    "    def update(self, index, val):\n",
    "        if self.L == self.R:\n",
    "            self.sum = val\n",
    "            return\n",
    "        \n",
    "        M = (self.L + self.R) // 2\n",
    "        if index > M:\n",
    "            self.right.update(index, val)\n",
    "        else:\n",
    "            self.left.update(index, val)\n",
    "        self.sum = self.left.sum + self.right.sum\n",
    "        \n",
    "    # O(logn)\n",
    "    def rangeQuery(self, L, R):\n",
    "        if L == self.L and R == self.R:\n",
    "            return self.sum\n",
    "        \n",
    "        M = (self.L + self.R) // 2\n",
    "        if L > M:\n",
    "            return self.right.rangeQuery(L, R)\n",
    "        elif R <= M:\n",
    "            return self.left.rangeQuery(L, R)\n",
    "        else:\n",
    "            return (self.left.rangeQuery(L, M) +\n",
    "                    self.right.rangeQuery(M + 1, R))"
   ]
  },
  {
   "cell_type": "code",
   "execution_count": 10,
   "metadata": {},
   "outputs": [
    {
     "name": "stdout",
     "output_type": "stream",
     "text": [
      "['abf', 'acd', 'ace', 'bdf', 'a', 'b', 'c', 'd', 'e', 'f']\n"
     ]
    }
   ],
   "source": [
    "bgruh=[\"abf\",\"acd\",\"ace\",\"bdf\",\"a\",\"b\",\"c\",\"d\",\"e\",\"f\"]\n",
    "bruh= \".\".join(bgruh)+\".\"\n",
    "\n",
    "print(bruh.split(\".\")[:-1])"
   ]
  },
  {
   "cell_type": "code",
   "execution_count": 12,
   "metadata": {},
   "outputs": [],
   "source": [
    "from collections import defaultdict as DefaultDict\n",
    "bruh=DefaultDict(list)\n"
   ]
  }
 ],
 "metadata": {
  "kernelspec": {
   "display_name": "Python 3",
   "language": "python",
   "name": "python3"
  },
  "language_info": {
   "codemirror_mode": {
    "name": "ipython",
    "version": 3
   },
   "file_extension": ".py",
   "mimetype": "text/x-python",
   "name": "python",
   "nbconvert_exporter": "python",
   "pygments_lexer": "ipython3",
   "version": "3.9.12"
  }
 },
 "nbformat": 4,
 "nbformat_minor": 2
}
