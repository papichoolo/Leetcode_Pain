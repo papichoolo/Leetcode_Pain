{
 "cells": [
  {
   "cell_type": "markdown",
   "metadata": {},
   "source": [
    "You are given an array of integers temperatures where temperatures[i] represents the daily temperatures on the ith day.\n",
    "\n",
    "Return an array result where result[i] is the number of days after the ith day before a warmer temperature appears on a future day. If there is no day in the future where a warmer temperature will appear for the ith day, set result[i] to 0 instead.\n",
    "\n",
    "Example 1:\n",
    "\n",
    "Input: temperatures = [30,38,30,36,35,40,28]\n",
    "\n",
    "Output: [1,4,1,2,1,0,0]\n",
    "Example 2:\n",
    "\n",
    "Input: temperatures = [22,21,20]\n",
    "\n",
    "Output: [0,0,0]"
   ]
  },
  {
   "cell_type": "code",
   "execution_count": null,
   "metadata": {},
   "outputs": [],
   "source": [
    "class Solution:\n",
    "    def dailyTemperatures(self, temperatures: List[int]) -> List[int]:\n",
    "        res=[0]*len(temperatures)\n",
    "        #paired stack containingthe value and index\n",
    "        stack=[]\n",
    "        for i, n in enumerate(temperatures):\n",
    "            while stack and n>stack[-1][0]:\n",
    "                stackN, stackI= stack.pop()\n",
    "                res[stackI]=i - stackI\n",
    "            stack.append([n,i])\n",
    "        return res\n",
    "        "
   ]
  }
 ],
 "metadata": {
  "language_info": {
   "name": "python"
  }
 },
 "nbformat": 4,
 "nbformat_minor": 2
}
